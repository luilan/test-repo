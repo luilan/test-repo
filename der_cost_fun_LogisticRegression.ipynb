{
 "cells": [
  {
   "cell_type": "markdown",
   "metadata": {},
   "source": [
    "$\\sigma \\left( x \\right) =\\frac{1}{\\left( 1+{\\rm e}^{\\theta^{T}x} \\right)}$"
   ]
  },
  {
   "cell_type": "markdown",
   "metadata": {
    "variables": {
     "\\rm d}{x}^{i": "<p><strong>SyntaxError</strong>: unexpected character after line continuation character (<ipython-input-1-29cb72640c41>, line 1)</p>\n",
     "\\rm&nbsp;d}{x}^{i": "<p><strong>SyntaxError</strong>: unexpected character after line continuation character (<ipython-input-1-cdbe62e38f08>, line 1)</p>\n",
     "\\sum _{i=1}^{m}\\left({\\frac{{\\rm d}^{i": "<p><strong>SyntaxError</strong>: unexpected character after line continuation character (<ipython-input-1-22ec0f008106>, line 1)</p>\n",
     "\\sum&nbsp;_{i=1}^{m}\\left({\\frac{{\\rm&nbsp;d}^{i": "<p><strong>SyntaxError</strong>: unexpected character after line continuation character (<ipython-input-1-cce0f5c05b27>, line 1)</p>\n"
    }
   },
   "source": [
    "$\\begin{eqnarray}-\\frac{1}{m}\\left[{{\\sum _{i=1}^{m} y^{\\left( i \\right)}\n",
    " \\ln  \\left( \\sigma \\left( {x}^{\\left( i \\right)} \\right)\\right)\n",
    " + \\left( 1-y^{\\left( i \\right)} \\right)\n",
    " \\ln \\left( 1 - \\sigma \\left( x^{\\left( i \\right) } \\right) \\right) \n",
    "}}\\right]\\end{eqnarray} $"
   ]
  },
  {
   "cell_type": "markdown",
   "metadata": {
    "collapsed": true
   },
   "source": [
    "$\\sum _{i=1}^m \\ln  y^i \\left(\\sigma \\left(  x \\right) ^{\\left(i\\right)}\\right)$"
   ]
  },
  {
   "cell_type": "markdown",
   "metadata": {
    "collapsed": true
   },
   "source": [
    "$-y\\frac{\\sigma ( \\theta^{T}X )  ( 1-\\sigma ( \\theta^{T}X ) ) }{\\sigma ( \\theta^{T}X ) }x_j-\\frac{(1-y)(-\\sigma(\\theta^{T}X))(1-\\sigma(\\theta^{T}X)}{(1-\\sigma(\\theta^{T}X))}x_j$"
   ]
  },
  {
   "cell_type": "markdown",
   "metadata": {},
   "source": [
    "$\\begin{eqnarray}\n",
    "  \\frac{\\partial C}{\\partial w_j} & = & -\\frac{1}{n} \\sum_x \\left(\n",
    "    \\frac{y}{\\sigma(z)} -\\frac{(1-y)}{1-\\sigma(z)} \\right)\n",
    "  \\frac{\\partial \\sigma}{\\partial w_j} \\tag{58}\\\\\n",
    " & = & -\\frac{1}{n} \\sum_x \\left( \n",
    "    \\frac{y}{\\sigma(z)} \n",
    "    -\\frac{(1-y)}{1-\\sigma(z)} \\right)\\sigma'(z) x_j.\n",
    "\\tag{59}\\end{eqnarray}$"
   ]
  },
  {
   "cell_type": "markdown",
   "metadata": {
    "collapsed": true
   },
   "source": [
    "$\\begin{eqnarray}\n",
    "  \\frac{\\partial C}{\\partial w_j} & = & \\frac{1}{n}\n",
    "  \\sum_x \\frac{\\sigma'(z) x_j}{\\sigma(z) (1-\\sigma(z))}\n",
    "  (\\sigma(z)-y).\n",
    "\\tag{60}\\end{eqnarray}$"
   ]
  },
  {
   "cell_type": "markdown",
   "metadata": {},
   "source": [
    "$\\begin{eqnarray} \n",
    "  \\frac{\\partial C}{\\partial w_j} =  \\frac{1}{n} \\sum_x x_j(\\sigma(z)-y).\n",
    "\\tag{61}\\end{eqnarray}$"
   ]
  },
  {
   "cell_type": "markdown",
   "metadata": {
    "collapsed": true
   },
   "source": [
    "\\begin{eqnarray} \n",
    "  \\delta^L_j = \\frac{\\partial C}{\\partial a^L_j} \\sigma'(z^L_j).\n",
    "\\tag{BP1}\\end{eqnarray}\n",
    "\n",
    "\\begin{eqnarray} \n",
    "  \\delta^L = \\nabla_a C \\odot \\sigma'(z^L).\n",
    "\\tag{BP1a}\\end{eqnarray}\n",
    "\n",
    "\\begin{eqnarray} \n",
    "  \\delta^l = ((w^{l+1})^T \\delta^{l+1}) \\odot\\sigma'(z^l),\n",
    "\\tag{BP2}\\end{eqnarray}\n",
    "\n",
    "\\begin{eqnarray}  \\frac{\\partial C}{\\partial b^l_j} =\n",
    "  \\delta^l_j.\n",
    "\\tag{BP3}\\end{eqnarray}\n",
    "\n",
    "\\begin{eqnarray}\n",
    "  \\frac{\\partial C}{\\partial w^l_{jk}} = a^{l-1}_k \\delta^l_j.\n",
    "\\tag{BP4}\\end{eqnarray}\n"
   ]
  },
  {
   "cell_type": "markdown",
   "metadata": {},
   "source": [
    "Some latex to learn from \n",
    "\\begin{eqnarray} \n",
    "(x+y)^3&=(x+y)(x+y)^2\\\\\n",
    "       &=(x+y)(x^2+2xy+y^2)\\\\\n",
    "       &=x^3+3x^2y+3xy^3+x^3\n",
    "\\end{eqnarray}"
   ]
  },
  {
   "cell_type": "code",
   "execution_count": 6,
   "metadata": {
    "collapsed": false
   },
   "outputs": [
    {
     "data": {
      "image/png": "[encoded data removed]",
      "text/plain": [
       "<IPython.core.display.Image object>"
      ]
     },
     "execution_count": 6,
     "metadata": {},
     "output_type": "execute_result"
    }
   ],
   "source": [
    "%matplotlib inline  \n",
    "import networkx as nx \n",
    "from nxpd import draw \n",
    "from IPython.display import Image,display\n",
    "\n",
    "G=nx.DiGraph()\n",
    "G.graph['dpi']=120 \n",
    "G.add_node('a',label='H')\n",
    "G.add_node('b',label='L')\n",
    "e=G.add_edge('a','b',{'label':'e'} ,weight=1)\n",
    "draw(G, show='ipynb')\n"
   ]
  },
  {
   "cell_type": "code",
   "execution_count": 7,
   "metadata": {
    "collapsed": false
   },
   "outputs": [],
   "source": [
    "def dgraph(f):\n",
    "    G['a']['b']['label'] = str(f)\n",
    "    fg = draw(G, show='ipynb') \n",
    "    display(fg)"
   ]
  },
  {
   "cell_type": "code",
   "execution_count": 8,
   "metadata": {
    "collapsed": false
   },
   "outputs": [
    {
     "data": {
      "image/png": "[encoded data removed]",
      "text/plain": [
       "<IPython.core.display.Image object>"
      ]
     },
     "metadata": {},
     "output_type": "display_data"
    },
    {
     "data": {
      "text/plain": [
       "<function __main__.dgraph>"
      ]
     },
     "execution_count": 8,
     "metadata": {},
     "output_type": "execute_result"
    }
   ],
   "source": [
    "from ipywidgets import *\n",
    "interact(dgraph,f=(1,10,0.1))"
   ]
  },
  {
   "cell_type": "code",
   "execution_count": 9,
   "metadata": {
    "collapsed": false
   },
   "outputs": [
    {
     "data": {
      "image/png": "[encoded data removed]",
      "text/plain": [
       "<IPython.core.display.Image object>"
      ]
     },
     "execution_count": 9,
     "metadata": {},
     "output_type": "execute_result"
    }
   ],
   "source": [
    "draw(G, show='ipynb') "
   ]
  },
  {
   "cell_type": "code",
   "execution_count": 4,
   "metadata": {
    "collapsed": false
   },
   "outputs": [],
   "source": [
    "%matplotlib inline  \n",
    "import networkx as nx \n",
    "from nxpd import draw \n",
    "from IPython.display import Image,display\n",
    "\n",
    "G=nx.DiGraph()\n",
    "G.graph['dpi']=120 \n",
    "G.add_node('a',label='H')\n",
    "G.add_node('b',label='L')\n",
    "e=G.add_edge('a','b',{'label':'e'} ,weight=1)\n",
    "draw(G, show='ipynb')\n",
    "\n",
    "\n",
    "    \n",
    "def draw_dash(j):\n",
    "    import sympy\n",
    "    import numpy as np\n",
    "    import matplotlib.pyplot as plt\n",
    "    import io\n",
    "    from io import BytesIO\n",
    "    from sympy import preview,sin,sqrt\n",
    "\n",
    "    from matplotlib._png import read_png\n",
    "    from matplotlib.offsetbox import TextArea, DrawingArea, OffsetImage, \\\n",
    "    AnnotationBbox\n",
    "\n",
    "    x = sympy.symbols('x')                                                          \n",
    "    y = 1 + sympy.sin(sympy.sqrt(x**2 + j))                                         \n",
    "    lat = sympy.latex(y)   \n",
    "    # I make sure that the figure is small enought that is the math expression to dictate the size\n",
    "\n",
    "    #fig=plt.figure(figsize=(0.1, 0.1))\n",
    "    f,ax = plt.subplots(3,figsize=(1, 5),sharex=True)\n",
    "\n",
    "    # you can stick latex everywhere\n",
    "    #plt.title(r'$\\alpha > \\beta$')\n",
    "\n",
    "    # You can use the latex created by sympy or ...\n",
    "    ax[0].text(0, 0, r\"$%s$\" % lat, fontsize = 12)   \n",
    "\n",
    "    #.. input the latex directly. AWSOME !!!\n",
    "    #ax[0].text(0, 0, r\"$sin(\\sqrt{x^2+10})$\" , fontsize = 12)   \n",
    "    ax[0].axis('off')\n",
    "\n",
    "    x = np.linspace(0, 2 * np.pi, 400)\n",
    "    y = np.sin(j*x ** 2)\n",
    "    ax[1].plot(x,y)\n",
    "    ax[1].axis('off')\n",
    "\n",
    "    G['a']['b']['label'] = str(j)\n",
    "    fn = draw(G,show='ipynb') \n",
    "\n",
    "    fg = read_png(BytesIO(fn.data))\n",
    "    imagebox = OffsetImage(fg, zoom=0.9)\n",
    "\n",
    "    ax[2].add_artist(imagebox)\n",
    "    ax[2].axis('off')\n",
    "#   ax[0].figure.canvas.draw_idle()\n",
    "#   ax[1].figure.canvas.draw_idle()\n",
    "#   ax[2].figure.canvas.draw_idle()\n"
   ]
  },
  {
   "cell_type": "code",
   "execution_count": 5,
   "metadata": {
    "collapsed": false,
    "scrolled": true
   },
   "outputs": [
    {
     "data": {
      "image/png": "[encoded data removed]",
      "text/plain": [
       "<matplotlib.figure.Figure at 0x1d2c7816588>"
      ]
     },
     "metadata": {},
     "output_type": "display_data"
    }
   ],
   "source": [
    "\n",
    "from ipywidgets import *\n",
    "#interact(draw_dash,j=(1,10,1),continuous_update=False,__manual=True)\n",
    "w=widgets.IntSlider(min=0,max=10,step=1,value=0,continuous_update=False)\n",
    "interact(draw_dash,j=w)\n",
    "\n"
   ]
  },
  {
   "cell_type": "code",
   "execution_count": 41,
   "metadata": {
    "collapsed": false
   },
   "outputs": [
    {
     "name": "stdout",
     "output_type": "stream",
     "text": [
      "1 squared is 1\n"
     ]
    }
   ],
   "source": [
    "# 1. Using interact as a function\n",
    "def square(num=1):\n",
    "    print(\"{} squared is {}\".format(num, num*num))\n",
    "interact(square, num=5)\n",
    "\n",
    "# 2. Using interact as a decorator\n",
    "@interact\n",
    "def square(num=2):\n",
    "    print(\"{} squared is {}\".format(num, num*num))\n",
    "\n",
    "# 3. Using interact as a decorator with named parameters\n",
    "@interact(num=5)\n",
    "def square(num=2):\n",
    "    print(\"{} squared is {}\".format(num, num*num))"
   ]
  },
  {
   "cell_type": "code",
   "execution_count": null,
   "metadata": {
    "collapsed": true
   },
   "outputs": [],
   "source": []
  }
 ],
 "metadata": {
  "anaconda-cloud": {},
  "kernelspec": {
   "display_name": "Python [conda root]",
   "language": "python",
   "name": "conda-root-py"
  },
  "language_info": {
   "codemirror_mode": {
    "name": "ipython",
    "version": 3
   },
   "file_extension": ".py",
   "mimetype": "text/x-python",
   "name": "python",
   "nbconvert_exporter": "python",
   "pygments_lexer": "ipython3",
   "version": "3.5.2"
  },
  "widgets": {
   "state": {
    "6190768a831c4de68be6a2a565654ac4": {
     "views": [
      {
       "cell_index": 14
      }
     ]
    }
   },
   "version": "1.2.0"
  }
 },
 "nbformat": 4,
 "nbformat_minor": 1
}
