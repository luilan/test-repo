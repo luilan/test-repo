{
 "cells": [
  {
   "cell_type": "markdown",
   "metadata": {},
   "source": [
    "# Derivative of the sigmoid function"
   ]
  },
  {
   "cell_type": "markdown",
   "metadata": {},
   "source": [
    "$$\\sigma \\left( x \\right) = \\frac{1}{\\left( 1+{{\\rm e}^{-x}} \\right)}$$"
   ]
  },
  {
   "cell_type": "markdown",
   "metadata": {},
   "source": [
    "$$\\sigma \\left( x \\right) = \\left( 1+{{\\rm e}^{-x}} \\right) ^{-1}$$"
   ]
  },
  {
   "cell_type": "markdown",
   "metadata": {},
   "source": [
    "$${\\frac {\\rm d}{{\\rm d}x}}\\sigma \\left( x \\right) ={\\frac {{{\\rm e}^{-x\n",
    "}}}{ \\left( 1+{{\\rm e}^{-x}} \\right) ^{2}}}$$"
   ]
  },
  {
   "cell_type": "markdown",
   "metadata": {},
   "source": [
    "# Using partial fraction decomposition"
   ]
  },
  {
   "cell_type": "markdown",
   "metadata": {},
   "source": [
    "$${\\frac {{{\\rm e}^{-x}}}{ \\left( 1+{{\\rm e}^{-x}} \\right) ^{2}}}={\n",
    "\\frac {A}{ \\left( 1+{{\\rm e}^{-x}} \\right) ^{2}}}+{\\frac {B}{1+{\n",
    "{\\rm e}^{-x}}}}$$\n"
   ]
  },
  {
   "cell_type": "markdown",
   "metadata": {},
   "source": [
    "$${\\frac {{{\\rm e}^{-x}}}{ \\left( 1+{{\\rm e}^{-x}} \\right) ^{2}}}={\n",
    "\\frac {A+B+B{{\\rm e}^{-x}}}{ \\left( 1+{{\\rm e}^{-x}} \\right) ^{2}}}$$\n",
    "\n",
    "Therefore A must be equal to -1 and B to 1 ( A=-1,B=1 )\n"
   ]
  },
  {
   "cell_type": "markdown",
   "metadata": {},
   "source": [
    "$${\\frac {{{\\rm e}^{-x}}}{ \\left( 1+{{\\rm e}^{-x}} \\right) ^{2}}}=-\n",
    "  \\frac{1}{( 1+{{\\rm e}^{-x}} )^{2} }  + \\frac{1}{ 1+{{\\rm e}^{-x}}}$$\n"
   ]
  },
  {
   "cell_type": "markdown",
   "metadata": {},
   "source": [
    "$${\\frac {{{\\rm e}^{-x}}}{ \\left( 1+{{\\rm e}^{-x}} \\right) ^{2}}}={\n",
    "\\frac {1}{ \\left( 1+{{\\rm e}^{-x}} \\right) ^{2}} \\left( 1 - \\frac{1}{ \\left( 1+{\n",
    "{\\rm e}^{-x}} \\right)}  \\right) }\n",
    "$$"
   ]
  },
  {
   "cell_type": "markdown",
   "metadata": {},
   "source": [
    "$${\\frac {\\rm d}{{\\rm d}x}}\\sigma \\left( x \\right) =\\sigma \\left( x\n",
    " \\right)  \\left( 1-\\sigma \\left( x \\right)  \\right)$$"
   ]
  },
  {
   "cell_type": "code",
   "execution_count": null,
   "metadata": {
    "collapsed": true
   },
   "outputs": [],
   "source": []
  }
 ],
 "metadata": {
  "anaconda-cloud": {},
  "kernelspec": {
   "display_name": "Python [conda root]",
   "language": "python",
   "name": "conda-root-py"
  },
  "language_info": {
   "codemirror_mode": {
    "name": "ipython",
    "version": 3
   },
   "file_extension": ".py",
   "mimetype": "text/x-python",
   "name": "python",
   "nbconvert_exporter": "python",
   "pygments_lexer": "ipython3",
   "version": "3.5.2"
  }
 },
 "nbformat": 4,
 "nbformat_minor": 1
}
