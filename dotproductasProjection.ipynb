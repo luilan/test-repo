{
 "cells": [
  {
   "cell_type": "markdown",
   "metadata": {},
   "source": [
    "### Showing how the dot product between two vectors (w.x) can be interpreted as the distance from a point x to the line defined by the w coefficient"
   ]
  },
  {
   "cell_type": "markdown",
   "metadata": {},
   "source": [
    "###### In this case we consider the line -2x -y = 0, we call it l1. \n",
    "The vector of coefficients is  w=[-2 -1] and we calculate the distance of the point p (-0.8,0.3) to the line l1 calculating the dot product $ \\hat{w} \\cdot x$"
   ]
  },
  {
   "cell_type": "code",
   "execution_count": 1,
   "metadata": {
    "collapsed": true
   },
   "outputs": [],
   "source": [
    "# lets define some imports\n",
    "import numpy as np\n",
    "import matplotlib.pyplot as plt\n",
    "from math import degrees\n",
    "from matplotlib.patches  import Arc\n",
    "from numpy import  sqrt,arcsin,sin,pi,cos,arccos,abs,arctan,round\n",
    "from numpy.linalg import norm"
   ]
  },
  {
   "cell_type": "code",
   "execution_count": 2,
   "metadata": {
    "collapsed": true
   },
   "outputs": [],
   "source": [
    "# ... and some helper functions\n",
    "def Add_Annotations():\n",
    "    ''' Write some annotatioon on the graph with the hope of making it more clear\n",
    "    '''\n",
    "    plt.axes().annotate('len=0.5813', xy=(-0.5, 0.5), xytext=(-1.5, 1),\n",
    "                arrowprops=dict(headwidth=5 ,width = 1,facecolor='black', shrink=0.02),\n",
    "                )\n",
    "    \n",
    "    plt.axes().annotate('len=0.5813', xy=(-0.4, -0.2), xytext=(-1, -1),color='red',\n",
    "                arrowprops=dict(headwidth=5,width = 1,facecolor='black', shrink=0.02)\n",
    "                )\n",
    "    \n",
    "    plt.axes().annotate('p=-0.8,03', xy = (-1,0.5),xytext=(-1.3, 0.5))\n",
    "    plt.axes().annotate('$w$', xy = (-0.7,-0.45),xytext=(-0.7, -0.45))\n",
    "    latext_text = r'$ \\frac{w \\cdot p}{\\parallel w \\parallel} * \\hat{w}$'\n",
    "    plt.axes().annotate(latext_text, xy = (-0.3,-0.25),xytext=(-0.3, -0.25))\n",
    "\n",
    "    \n",
    "def Add_Angles():\n",
    "    '''Add the arcs that define the angles of interests in the graph\n",
    "    '''\n",
    "    point_angles = slope_to_angle(vector_slope(point))\n",
    "    weights_vec_angles = slope_to_angle(-1/l1.m)\n",
    "\n",
    "    plt.axes().add_patch(draw_angle(*point_angles[1]))\n",
    "    plt.axes().add_patch(draw_angle(*weights_vec_angles[1],'blue'))\n",
    "    \n",
    "\n",
    "def vector_slope(vector):\n",
    "    '''Given a vector return the slope\n",
    "    '''\n",
    "    v = vector/norm(vector)\n",
    "    return v[1]/v[0]\n",
    "\n",
    "def slope_to_angle(slope):\n",
    "    ''' Given a slope return the angles that the line with that slope defines\n",
    "        there are two of them that differ of 180 degrees\n",
    "    '''\n",
    "    angle = degrees(arctan(slope))\n",
    "    theta1 = min(0,angle)\n",
    "    theta2 = max(0,angle)\n",
    "    return [(theta1,theta2),(180+theta1,180+theta2)]\n",
    "\n",
    "def draw_angle(theta1,theta2,color= 'red'):\n",
    "    ''' Returns an arc patch between to angles in degrees centered at the origin\n",
    "    '''\n",
    "    len_x_axis =1/2\n",
    "    offset = 1\n",
    "    len_y_axis =1/2\n",
    "    angle = round(theta2-theta1,2)\n",
    "    return Arc([0,0], len_x_axis*offset, len_y_axis*offset, 0, theta1, theta2, color=color, label = str(abs(angle))+u\"\\u00b0\")\n",
    "\n",
    "class line_equation(object):\n",
    "    '''\n",
    "    Incapsulates the equation of a line with intercept i and slope m \n",
    "    '''\n",
    "    def __init__(self, m=1,i=0):\n",
    "        self.m = m\n",
    "        self.i = i\n",
    "    def __call__(self, x):\n",
    "        return x*self.m+self.i\n",
    "    def perpendicular_line(self):\n",
    "        return line_equation(-1/self.m,self.i)\n",
    "    def distance_from_point(self,p):\n",
    "        return abs(-self.m*p[0]+p[1]+self.i)/sqrt(self.m**2+1)\n",
    "    def segment_from_point(self,p):\n",
    "        x = (p[0]+self.m*p[1]-self.m*self.i)/(self.m**2+1)\n",
    "        y = (self.m*(p[0]+self.m*p[1])-self.i)/(self.m**2+1)\n",
    "        return np.array([x,y])\n",
    "\n"
   ]
  },
  {
   "cell_type": "code",
   "execution_count": 3,
   "metadata": {
    "collapsed": true
   },
   "outputs": [],
   "source": [
    "# This is the equation of the main line: a simple y=2x   \n",
    "l1 = line_equation(-2)"
   ]
  },
  {
   "cell_type": "code",
   "execution_count": 4,
   "metadata": {
    "collapsed": true
   },
   "outputs": [],
   "source": [
    "# The line we are considering is y=2x ,in standard form is -2x-y=0\n",
    "# so the coefficient of the normal vector are -2 and -1 \n",
    "# this vector is  perpedicular to the line and is located in the 3rd vector ( w in the figure )\n",
    "w_vec = [-2,-1]"
   ]
  },
  {
   "cell_type": "code",
   "execution_count": 5,
   "metadata": {
    "collapsed": true
   },
   "outputs": [],
   "source": [
    "# we make a unit vector out of it simply dividing by the norm\n",
    "w_norm = w_vec/norm(w_vec)"
   ]
  },
  {
   "cell_type": "markdown",
   "metadata": {},
   "source": [
    "$\\hat{w} = \\frac{w}{\\parallel w \\parallel}$"
   ]
  },
  {
   "cell_type": "code",
   "execution_count": 6,
   "metadata": {
    "collapsed": true
   },
   "outputs": [],
   "source": [
    "# These are the coordinates of the point we want to project\n",
    "# we consider it a vector and we proceed to normalize it as well\n",
    "point = [-0.8,0.3]\n",
    "point_norm = point / norm(point)"
   ]
  },
  {
   "cell_type": "code",
   "execution_count": 7,
   "metadata": {
    "collapsed": false
   },
   "outputs": [
    {
     "name": "stdout",
     "output_type": "stream",
     "text": [
      "0.58137767415\n"
     ]
    }
   ],
   "source": [
    "#calculate the margin defined as the distance of the point to the weigth vector\n",
    "# it is just the dot product of the wwight vector with the point vector divided\n",
    "# by the norm of the weight vector.\n",
    "# The reason for this is that w dot p = v * norm(w) therefore dividing by norm(w)\n",
    "# I obtain v which is the length of the projection of p on w and it is a signed \n",
    "# scalar,begative when the vector of the point forms a 90+ degree with w and\n",
    "# positive otherwise\n",
    "dis = (w_norm @ point)\n",
    "margin_vec = dis  *w_norm\n",
    "print(norm(margin_vec))"
   ]
  },
  {
   "cell_type": "markdown",
   "metadata": {},
   "source": [
    "v is the margin we are looking for.\n",
    "Notice that in the calculation above we do not divide by the norm of w because we have already normalized it before\n",
    "( we are using the variable w_norm instead of w_vec ).\n",
    "\n",
    "$ \n",
    "w \\cdot p={v}*\\parallel{w}\\parallel \\\\\n",
    "v = \\frac{{v}*\\parallel{w}\\parallel}{\\parallel{w}\\parallel}\n",
    "$"
   ]
  },
  {
   "cell_type": "code",
   "execution_count": 8,
   "metadata": {
    "collapsed": true
   },
   "outputs": [],
   "source": [
    "# Calculate the point of intersection between the perp to the point and the \n",
    "# main line y=2x ( blue dashed in the graph )\n",
    "p1 = l1.segment_from_point(point)\n",
    "\n",
    "# Calculate the point of intersection between the perp to the point and the \n",
    "# w y=-1/2x ( red dashed in the graph )\n",
    "l2 = line_equation(-1/l1.m)\n",
    "p2 = l2.segment_from_point(point)"
   ]
  },
  {
   "cell_type": "code",
   "execution_count": 9,
   "metadata": {
    "collapsed": false
   },
   "outputs": [
    {
     "name": "stdout",
     "output_type": "stream",
     "text": [
      "0.58137767415\n"
     ]
    }
   ],
   "source": [
    "# Check the margin using trigonometry, calculate the angle of the point c and the coefficient vector\n",
    "# sum them and calculate the cos. At this point ypu need to scale it back to the norm of the point\n",
    "# i.e. the actual distance of the point from the origin\n",
    "dist = cos(arccos(-point_norm[0]) + arccos(-w_norm[0]) ) * norm(point)\n",
    "print(dist)"
   ]
  },
  {
   "cell_type": "code",
   "execution_count": 10,
   "metadata": {
    "collapsed": false
   },
   "outputs": [
    {
     "name": "stdout",
     "output_type": "stream",
     "text": [
      "distance 0.58137767415\n"
     ]
    }
   ],
   "source": [
    "# Another check for the margin,calculate the distance between p and p1\n",
    "dist2 = sqrt(  (point[0] - p1[0] )**2  + (point[1] - p1[1] )**2 ) \n",
    "print(\"distance\",dist2 )"
   ]
  },
  {
   "cell_type": "code",
   "execution_count": 11,
   "metadata": {
    "collapsed": false
   },
   "outputs": [
    {
     "data": {
      "image/png": "[encoded data removed]",
      "text/plain": [
       "<matplotlib.figure.Figure at 0x28772ba50f0>"
      ]
     },
     "metadata": {},
     "output_type": "display_data"
    }
   ],
   "source": [
    "## Draw the figure\n",
    "\n",
    "#  axis ranges\n",
    "xaxis_range = (-1.5, 1.5)\n",
    "yaxis_range = (0,0)\n",
    "x = np.arange(*xaxis_range, 0.02)\n",
    "\n",
    "\n",
    "# we are going to plot a lot of arrows,lets define some common options\n",
    "arrow_opt = { 'head_width' : 0.02, 'head_length' : 0.03 , 'length_includes_head' : True}\n",
    "plt.figure(1)\n",
    "plt.subplot(111)\n",
    "\n",
    "plt.ylim(*xaxis_range)\n",
    "plt.xlim(*xaxis_range)\n",
    "\n",
    "#Plot the point p\n",
    "plt.plot(point[0],point[1], marker='x',markersize=10,label='p')\n",
    "\n",
    "#Plots the weigh vector in both direction, thepositive solid the negative dashed\n",
    "plt.arrow(0, 0,w_norm[0],w_norm[1], **arrow_opt)\n",
    "plt.arrow(0, 0,-w_norm[0],-w_norm[1], **arrow_opt,linestyle='dashed',label ='w')\n",
    "\n",
    "# Plot axiss\n",
    "plt.plot(xaxis_range , yaxis_range,color='black') \n",
    "plt.plot(yaxis_range,xaxis_range ,color='black') \n",
    "\n",
    "#plot the point vector as a line from the origin to the cross p \n",
    "plt.arrow(0, 0, point[0], point[1], **arrow_opt,color='green')\n",
    "# plot the margin as a vector  of length margin along the same direction of w\n",
    "plt.arrow(0, 0, margin_vec[0], margin_vec[1], color = 'red', **arrow_opt    )\n",
    "\n",
    "# Draw the main line\n",
    "plt.plot(x,l1.m*x, color='green') \n",
    "\n",
    "plt.plot((point[0],p1[0] ),(point[1], p1[1]),color='blue',linestyle='dashed' ) \n",
    "\n",
    "plt.plot( (point[0], p2[0]), (point[1], p2[1])  ,color='red',linestyle='dashed'     )\n",
    "      \n",
    "Add_Annotations()\n",
    "Add_Angles()\n",
    "\n",
    "# Add legend,grid axes\n",
    "plt.legend(bbox_to_anchor=(1.05, 1), loc=2, borderaxespad=0.)\n",
    "plt.axes().set_aspect('equal')\n",
    "plt.grid(True)\n",
    "plt.show()\n"
   ]
  },
  {
   "cell_type": "code",
   "execution_count": null,
   "metadata": {
    "collapsed": true
   },
   "outputs": [],
   "source": []
  }
 ],
 "metadata": {
  "anaconda-cloud": {},
  "kernelspec": {
   "display_name": "Python [conda root]",
   "language": "python",
   "name": "conda-root-py"
  },
  "language_info": {
   "codemirror_mode": {
    "name": "ipython",
    "version": 3
   },
   "file_extension": ".py",
   "mimetype": "text/x-python",
   "name": "python",
   "nbconvert_exporter": "python",
   "pygments_lexer": "ipython3",
   "version": "3.5.2"
  }
 },
 "nbformat": 4,
 "nbformat_minor": 1
}
